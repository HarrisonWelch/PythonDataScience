{
 "cells": [
  {
   "cell_type": "markdown",
   "metadata": {},
   "source": [
    "# Numpy\n",
    "\n",
    "fundamental package for sci computing w/ Python\n",
    "\n",
    "## Arrays\n",
    "\n",
    "* v[j]\n",
    "* ndim = 1\n",
    "* shape = (N,)\n",
    "\n",
    "* A[j,k]\n",
    "* ndim = 2\n",
    "* shape = (N,M)\n",
    "\n",
    "## Datatypes\n",
    "\n",
    "* Ints\n",
    "    * numpy.int8\n",
    "    * numpy.int16\n",
    "    * numpy.int32\n",
    "    * numpy.int64\n",
    "    * numpy.uint32\n",
    "* float\n",
    "    * numpy.float32\n",
    "    * numpy.float64\n",
    "    * numpy.float128\n",
    "    * numpy.complex64\n",
    "* dtypes\n",
    "    * bool\n",
    "    * void\n",
    "    * object (refer to any type of python object)"
   ]
  }
 ],
 "metadata": {
  "kernelspec": {
   "display_name": "Python 3",
   "language": "python",
   "name": "python3"
  },
  "language_info": {
   "codemirror_mode": {
    "name": "ipython",
    "version": 3
   },
   "file_extension": ".py",
   "mimetype": "text/x-python",
   "name": "python",
   "nbconvert_exporter": "python",
   "pygments_lexer": "ipython3",
   "version": "3.7.3"
  }
 },
 "nbformat": 4,
 "nbformat_minor": 1
}
